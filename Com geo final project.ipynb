{
 "cells": [
  {
   "cell_type": "markdown",
   "id": "5af34284",
   "metadata": {},
   "source": [
    "# Skyline Problem: Vertical Line Sweep Algo"
   ]
  },
  {
   "cell_type": "code",
   "execution_count": 25,
   "id": "a26a3f59",
   "metadata": {},
   "outputs": [],
   "source": [
    "# pip install matplotlib\n",
    "import matplotlib.pyplot as plt\n",
    "import pylab as pl\n",
    "import numpy as np"
   ]
  },
  {
   "cell_type": "code",
   "execution_count": 26,
   "id": "94efcb55",
   "metadata": {},
   "outputs": [
    {
     "name": "stdout",
     "output_type": "stream",
     "text": [
      "[[2, 10], [3, 15], [7, 12], [12, 0], [15, 10], [20, 8], [24, 0]]\n"
     ]
    },
    {
     "data": {
      "text/plain": [
       "[[2, 10], [3, 15], [7, 12], [12, 0], [15, 10], [20, 8], [24, 0]]"
      ]
     },
     "execution_count": 26,
     "metadata": {},
     "output_type": "execute_result"
    }
   ],
   "source": [
    "import heapq as hq\n",
    "def getSkyline(buildings):\n",
    "    '''\n",
    "    Purpose:\n",
    "        Compute the contour line of a list of rectangle buildings that are all grounded on y=0, and\n",
    "        return the skyline of the buildings.\n",
    "    Parameters:\n",
    "        buildings : a list of lists where buildings[i] = [lefti, righti, heighti] where\n",
    "                         - lefti is the x coordinate of the left edge of the ith building.\n",
    "                         - righti is the x coordinate of the right edge of the ith building.\n",
    "                         - heighti is the height of the ith building.\n",
    "    Return:\n",
    "        a list of \"key points\" sorted by their x-coordinate in the form [[x1,y1],[x2,y2],...]. \n",
    "        Each key point is the left endpoint of some horizontal segment in the skyline except the \n",
    "        last point in the list, which always has a y-coordinate 0 and is used to mark the skyline's \n",
    "        termination where the rightmost building ends.\n",
    "    '''\n",
    "\n",
    "    tallq = [] \n",
    "    res = [] \n",
    "    prev = -1 \n",
    "\n",
    "    for b in buildings:\n",
    "        # check previous stopping points \n",
    "        while tallq and tallq[0][1] <= b[0]:\n",
    "            stoppingPt = tallq[0][1]\n",
    "            height = tallq[0][0]\n",
    "            hq.heappop(tallq)\n",
    "            while tallq and (tallq[0][1] <= stoppingPt):\n",
    "                hq.heappop(tallq)\n",
    "            if tallq and tallq[0][0] != height:\n",
    "                res.append([stoppingPt, -tallq[0][0]])\n",
    "            elif not tallq:\n",
    "                res.append([stoppingPt, 0])\n",
    "        # consider adding the current pt \n",
    "        if not (tallq and (tallq[0][0] == -b[2] or (tallq[0][0] < -b[2] and tallq[0][1] > b[0]))):\n",
    "            if res and res[-1][0] == b[0]:\n",
    "                res[-1][1] = max(b[2], res[-1][1])\n",
    "                if len(res) >= 2 and res[-2][1] == res[-1][1]:\n",
    "                    res = res[:-1]\n",
    "            else:\n",
    "                res.append([b[0], b[2]])\n",
    "\n",
    "        # maintain invarients: tallest building live beyond this point\n",
    "        while tallq and tallq[0][1] == b[0]:\n",
    "            hq.heappop(tallq)\n",
    "\n",
    "        hq.heappush(tallq, [-b[2], b[1]])\n",
    "        prev = b[0]\n",
    "\n",
    "    # check the rest stopping points \n",
    "    while tallq:\n",
    "        stoppingPt = tallq[0][1]\n",
    "        height = tallq[0][0]\n",
    "        hq.heappop(tallq)\n",
    "        while tallq and tallq[0][1] <= stoppingPt:\n",
    "            hq.heappop(tallq)\n",
    "        if tallq and tallq[0][0] != height:\n",
    "            res.append([stoppingPt, -tallq[0][0]])\n",
    "        elif not tallq:\n",
    "            res.append([stoppingPt, 0])\n",
    "        prev = stoppingPt\n",
    "\n",
    "    print(res)\n",
    "    # remove duplicates \n",
    "    distinctRes = []\n",
    "    prev = [-1, -1]\n",
    "    for i in range(len(res)):\n",
    "        if res[i][1] != prev[1] and res[i][0] != prev[0]:\n",
    "            distinctRes.append(res[i])\n",
    "        if res[i][0] == prev[0]:\n",
    "            distinctRes[-1][1] = max(distinctRes[-1][1], res[i][1])\n",
    "        prev = distinctRes[-1]\n",
    "\n",
    "    return res\n",
    "buildings = [[0,2,3],[2,5,3]]\n",
    "buildings2 = [[2,9,10],[3,7,15],[5,12,12],[15,20,10],[19,24,8]]\n",
    "getSkyline(buildings2)"
   ]
  },
  {
   "cell_type": "code",
   "execution_count": 27,
   "id": "e7cb8397",
   "metadata": {},
   "outputs": [],
   "source": [
    "def drawRectangles(buildings, xRange, yRange):\n",
    "    '''\n",
    "    Purpose: \n",
    "        Plot the outline of the given rectangle buildings\n",
    "    Parameters:\n",
    "        buildlings : a list of lists - same as in getSkyline function\n",
    "        xRange : the max x-coord shown on canvas\n",
    "        yRange : the max y-coord shown on canvas\n",
    "    Return:\n",
    "        a list of colors for each rectangle\n",
    "    '''\n",
    "    plt.rcParams[\"figure.figsize\"] = [7.50, 3.50]\n",
    "    plt.rcParams[\"figure.autolayout\"] = True\n",
    "    N = len(buildings)\n",
    "    xs = []\n",
    "    ys = []\n",
    "    ws = []\n",
    "    hs = []\n",
    "    for b in buildings:\n",
    "        xs.append(b[0])\n",
    "        ys.append(0)\n",
    "        ws.append(b[1] - b[0])\n",
    "        hs.append(b[2])\n",
    "    vs = np.random.randn(N)\n",
    "    normal = pl.Normalize(vs.min(), vs.max())\n",
    "    colors = pl.cm.jet(normal(vs))\n",
    "\n",
    "    ax = pl.subplot(111)\n",
    "    for x,y,w,h,c in zip(xs,ys,ws,hs,colors):\n",
    "        rect = pl.Rectangle((x,y),w,h,color=c,fill=None)  #remove the fill=None to show colors filled in rectangles\n",
    "        ax.add_patch(rect)\n",
    "\n",
    "    ax.set_xlim(0,xRange)  #320\n",
    "    ax.set_ylim(0,yRange)  #60\n",
    "    pl.show()\n",
    "    return colors"
   ]
  },
  {
   "cell_type": "code",
   "execution_count": 67,
   "id": "b80853fe",
   "metadata": {},
   "outputs": [],
   "source": [
    "def drawContour(res, colors, xRange, yRange):\n",
    "    '''\n",
    "    Purpose:\n",
    "        Plot the computed skyline of the buildings\n",
    "    Parameters:\n",
    "        res : the skyline that the getSkyline function would return (as a list of sorted points)\n",
    "        colors : the color scheme returned by drawRectangles function\n",
    "    Return:\n",
    "        None\n",
    "    '''\n",
    "    prevx = 0\n",
    "    prevy = 0\n",
    "\n",
    "    plt.rcParams[\"figure.figsize\"] = [7.50, 3.50]\n",
    "    plt.rcParams[\"figure.autolayout\"] = True\n",
    "    plt.xlim(0, xRange)\n",
    "    plt.ylim(0, yRange)\n",
    "    color = '#000000'\n",
    "    colorid = -2\n",
    "    decrease = False\n",
    "\n",
    "    for c in after:\n",
    "        plt.plot(c[0], c[1], marker=\"o\", markersize=7, markeredgecolor=\"red\", markerfacecolor=\"red\")\n",
    "        \n",
    "        # matching contour color with the rectangle color\n",
    "#         if prevy < c[1] and prevy != 0:\n",
    "#             colorid += 1\n",
    "#         elif prevy > c[1] and c[1] != 0:\n",
    "#             if decrease == True:\n",
    "#                 colorid += 1\n",
    "#             decrease = True\n",
    "#         if colorid < len(colors):\n",
    "#             color = colors[colorid]\n",
    "#         else:\n",
    "#             color = \"#111111\"\n",
    "        \n",
    "        # draw a horizontal  line \n",
    "        xs = [prevx, c[0]]\n",
    "        ys = [prevy, prevy]\n",
    "        plt.plot(xs, ys, c=color)\n",
    "\n",
    "        # matching contour color with the rectangle color            \n",
    "#         if prevy < c[1]:\n",
    "#             colorid += 1\n",
    "#             decrease = False\n",
    "#         if colorid < len(colors):\n",
    "#             color = colors[colorid]\n",
    "#         else:\n",
    "#             color = \"#111111\"\n",
    "\n",
    "        # draw a vertical line\n",
    "        x_values = [c[0], c[0]]\n",
    "        y_values = [prevy, c[1]]\n",
    "        plt.plot(x_values, y_values, c=color)\n",
    "        prevy = c[1]\n",
    "        prevx = c[0]\n",
    "\n",
    "    plt.show()\n"
   ]
  },
  {
   "cell_type": "code",
   "execution_count": 50,
   "id": "ef042f79",
   "metadata": {},
   "outputs": [],
   "source": [
    "# Built Testing Cases \n",
    "test1 = [[2,9,10],[3,7,15],[5,12,12],[15,20,10],[19,24,8]]\n",
    "test2 = [[15, 47, 36],\n",
    " [23, 58, 17],\n",
    " [57, 73, 47],\n",
    " [73, 111, 21],\n",
    " [98, 118, 23],\n",
    " [101, 151, 21],\n",
    " [121, 160, 39],\n",
    " [142, 174, 24],\n",
    " [174, 188, 5],\n",
    " [199, 205, 25],\n",
    " [214, 252, 12],\n",
    " [235, 258, 47],\n",
    " [243, 287, 13],\n",
    " [277, 327, 37]]\n",
    "\n",
    "test3 = [[0,2,3],[2,5,3]]\n",
    "\n",
    "test4 = [[1,38,219],[2,19,228],[2,64,106],[3,80,65],[3,84,8],[4,12,8],[4,25,14],[4,46,225],[4,67,187],[5,36,118],[5,48,211],[5,55,97],[6,42,92],[6,56,188],[7,37,42],[7,49,78],[7,84,163],[8,44,212],[9,42,125],[9,85,200],[9,100,74],[10,13,58],[11,30,179],[12,32,215],[12,33,161],[12,61,198],[13,38,48],[13,65,222],[14,22,1],[15,70,222],[16,19,196],[16,24,142],[16,25,176],[16,57,114],[18,45,1],[19,79,149],[20,33,53],[21,29,41],[23,77,43],[24,41,75],[24,94,20],[27,63,2],[31,69,58],[31,88,123],[31,88,146],[33,61,27],[35,62,190],[35,81,116],[37,97,81],[38,78,99],[39,51,125],[39,98,144],[40,95,4],[45,89,229],[47,49,10],[47,99,152],[48,67,69],[48,72,1],[49,73,204],[49,77,117],[50,61,174],[50,76,147],[52,64,4],[52,89,84],[54,70,201],[57,76,47],[58,61,215],[58,98,57],[61,95,190],[66,71,34],[66,99,53],[67,74,9],[68,97,175],[70,88,131],[74,77,155],[74,99,145],[76,88,26],[82,87,40],[83,84,132],[88,99,99]]\n",
    "\n",
    "\n",
    "# Random-generated Testing Cases\n",
    "import random\n",
    "N = 15\n",
    "width = 30\n",
    "xs,ys,ws = [],[],[]\n",
    "prev = 10\n",
    "for i in range(20, N * 20, 20):\n",
    "    xs.append(random.randint(prev,i))\n",
    "    ys.append(random.randint(i, i+50))\n",
    "    ws.append(random.randint(5, 50))\n",
    "    prev = i\n",
    "    \n",
    "bs = list(zip(xs, ys, ws))\n",
    "test = [list(ele) for ele in bs]"
   ]
  },
  {
   "cell_type": "code",
   "execution_count": 68,
   "id": "018bc309",
   "metadata": {},
   "outputs": [
    {
     "data": {
      "image/png": "[encoded data removed]",
      "text/plain": [
       "<Figure size 540x252 with 1 Axes>"
      ]
     },
     "metadata": {
      "needs_background": "light"
     },
     "output_type": "display_data"
    },
    {
     "name": "stdout",
     "output_type": "stream",
     "text": [
      "[[15, 36], [47, 17], [57, 47], [73, 21], [98, 23], [118, 21], [121, 39], [160, 24], [174, 5], [188, 0], [199, 25], [205, 0], [214, 12], [235, 47], [258, 13], [277, 37], [327, 0]]\n"
     ]
    },
    {
     "data": {
      "image/png": "[encoded data removed]",
      "text/plain": [
       "<Figure size 540x252 with 1 Axes>"
      ]
     },
     "metadata": {
      "needs_background": "light"
     },
     "output_type": "display_data"
    }
   ],
   "source": [
    "# choose test case\n",
    "xRange = 300\n",
    "yRange = 60\n",
    "buildings = test2\n",
    "\n",
    "colors = drawRectangles(buildings, xRange, yRange)\n",
    "after = getSkyline(buildings)\n",
    "drawContour(after, colors, xRange, yRange)"
   ]
  },
  {
   "cell_type": "markdown",
   "id": "a30a3b19",
   "metadata": {},
   "source": [
    "## Resources"
   ]
  },
  {
   "cell_type": "code",
   "execution_count": null,
   "id": "c1dc2401",
   "metadata": {},
   "outputs": [],
   "source": [
    "import matplotlib.colorbar as cbar\n",
    "import pylab as pl\n",
    "import numpy as np\n",
    "\n",
    "N = 50\n",
    "xs = np.random.randint(0, 100, N)\n",
    "ys = np.random.randint(0, 100, N)\n",
    "ws = np.random.randint(10, 20, N)\n",
    "hs = np.random.randint(10, 20, N)\n",
    "vs = np.random.randn(N)\n",
    "normal = pl.Normalize(vs.min(), vs.max())\n",
    "colors = pl.cm.jet(normal(vs))\n",
    "\n",
    "ax = pl.subplot(111)\n",
    "for x,y,w,h,c in zip(xs,ys,ws,hs,colors):\n",
    "    rect = pl.Rectangle((x,y),w,h,color=c)\n",
    "    ax.add_patch(rect)\n",
    "\n",
    "cax, _ = cbar.make_axes(ax) \n",
    "cb2 = cbar.ColorbarBase(cax, cmap=pl.cm.jet,norm=normal) \n",
    "\n",
    "ax.set_xlim(0,120)\n",
    "ax.set_ylim(0,120)\n",
    "pl.show()"
   ]
  },
  {
   "cell_type": "code",
   "execution_count": null,
   "id": "6d24be55",
   "metadata": {},
   "outputs": [],
   "source": [
    "import random\n",
    "r = lambda: random.randint(0,255)\n",
    "color = '#%02X%02X%02X' % (r(),r(),r())\n",
    "print(color)"
   ]
  },
  {
   "cell_type": "code",
   "execution_count": null,
   "id": "f9fc3cfd",
   "metadata": {},
   "outputs": [],
   "source": [
    "from matplotlib import pyplot as plt\n",
    "fig = plt.figure()\n",
    "plt.figure().clear()\n",
    "plt.close()\n",
    "plt.cla()\n",
    "plt.clf()\n"
   ]
  }
 ],
 "metadata": {
  "kernelspec": {
   "display_name": "Python 3 (ipykernel)",
   "language": "python",
   "name": "python3"
  },
  "language_info": {
   "codemirror_mode": {
    "name": "ipython",
    "version": 3
   },
   "file_extension": ".py",
   "mimetype": "text/x-python",
   "name": "python",
   "nbconvert_exporter": "python",
   "pygments_lexer": "ipython3",
   "version": "3.9.13"
  }
 },
 "nbformat": 4,
 "nbformat_minor": 5
}

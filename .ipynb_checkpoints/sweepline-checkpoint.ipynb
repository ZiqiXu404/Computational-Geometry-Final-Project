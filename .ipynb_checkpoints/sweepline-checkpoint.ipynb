{
 "cells": [
  {
   "cell_type": "markdown",
   "id": "5af34284",
   "metadata": {},
   "source": [
    "# Skyline Problem: Vertical Line Sweep Algo"
   ]
  },
  {
   "cell_type": "code",
   "execution_count": 40,
   "id": "a26a3f59",
   "metadata": {},
   "outputs": [],
   "source": [
    "# pip install matplotlib\n",
    "import matplotlib.pyplot as plt\n",
    "import pylab as pl\n",
    "import numpy as np"
   ]
  },
  {
   "cell_type": "code",
   "execution_count": 41,
   "id": "94efcb55",
   "metadata": {},
   "outputs": [],
   "source": [
    "import heapq as hq\n",
    "def getSkyline(buildings):\n",
    "    '''\n",
    "    Purpose:\n",
    "        Compute the contour line of a list of rectangle buildings that are all grounded on y=0, and\n",
    "        return the skyline of the buildings.\n",
    "    Parameters:\n",
    "        buildings : a list of lists where buildings[i] = [lefti, righti, heighti] where\n",
    "                         - lefti is the x coordinate of the left edge of the ith building.\n",
    "                         - righti is the x coordinate of the right edge of the ith building.\n",
    "                         - heighti is the height of the ith building.\n",
    "    Return:\n",
    "        a list of \"key points\" sorted by their x-coordinate in the form [[x1,y1],[x2,y2],...]. \n",
    "        Each key point is the left endpoint of some horizontal segment in the skyline except the \n",
    "        last point in the list, which always has a y-coordinate 0 and is used to mark the skyline's \n",
    "        termination where the rightmost building ends.\n",
    "    '''\n",
    "\n",
    "    tallq = [] \n",
    "    res = [] \n",
    "    prev = -1 \n",
    "\n",
    "    for b in buildings:\n",
    "        # check previous stopping points \n",
    "        while tallq and tallq[0][1] <= b[0]:\n",
    "            stoppingPt = tallq[0][1]\n",
    "            height = tallq[0][0]\n",
    "            hq.heappop(tallq)\n",
    "            while tallq and (tallq[0][1] <= stoppingPt):\n",
    "                hq.heappop(tallq)\n",
    "            if tallq and tallq[0][0] != height:\n",
    "                res.append([stoppingPt, -tallq[0][0]])\n",
    "            elif not tallq:\n",
    "                res.append([stoppingPt, 0])\n",
    "                \n",
    "        # consider adding the current pt (collinear case included)\n",
    "        if not (tallq and (tallq[0][0] == -b[2] or (tallq[0][0] < -b[2] and tallq[0][1] > b[0]))):\n",
    "            if res and res[-1][0] == b[0]:\n",
    "                res[-1][1] = max(b[2], res[-1][1])\n",
    "                if len(res) >= 2 and res[-2][1] == res[-1][1]:\n",
    "                    res = res[:-1]\n",
    "            else:\n",
    "                res.append([b[0], b[2]])\n",
    "\n",
    "        # maintain invarients: tallest building live beyond this point\n",
    "        while tallq and tallq[0][1] == b[0]:\n",
    "            hq.heappop(tallq)\n",
    "\n",
    "        hq.heappush(tallq, [-b[2], b[1]])\n",
    "        prev = b[0]\n",
    "\n",
    "    # check the rest stopping points \n",
    "    while tallq:\n",
    "        stoppingPt = tallq[0][1]\n",
    "        height = tallq[0][0]\n",
    "        hq.heappop(tallq)\n",
    "        while tallq and tallq[0][1] <= stoppingPt:\n",
    "            hq.heappop(tallq)\n",
    "        if tallq and tallq[0][0] != height:\n",
    "            res.append([stoppingPt, -tallq[0][0]])\n",
    "        elif not tallq:\n",
    "            res.append([stoppingPt, 0])\n",
    "        prev = stoppingPt\n",
    "\n",
    "    # remove duplicates \n",
    "    distinctRes = []\n",
    "    prev = [-1, -1]\n",
    "    for i in range(len(res)):\n",
    "        if res[i][1] != prev[1] and res[i][0] != prev[0]:\n",
    "            distinctRes.append(res[i])\n",
    "        if res[i][0] == prev[0]:\n",
    "            distinctRes[-1][1] = max(distinctRes[-1][1], res[i][1])\n",
    "        prev = distinctRes[-1]\n",
    "\n",
    "    return res"
   ]
  },
  {
   "cell_type": "code",
   "execution_count": 42,
   "id": "e7cb8397",
   "metadata": {},
   "outputs": [],
   "source": [
    "def drawRectangles(buildings, xRange, yRange, ax):\n",
    "    '''\n",
    "    Purpose: \n",
    "        Plot the outline of the given rectangle buildings\n",
    "    Parameters:\n",
    "        buildlings : a list of lists - same as in getSkyline function\n",
    "        xRange : the max x-coord shown on canvas\n",
    "        yRange : the max y-coord shown on canvas\n",
    "        ax : the subplot axes \n",
    "    Return:\n",
    "        None\n",
    "    '''\n",
    "    N = len(buildings)\n",
    "    xs = []\n",
    "    ys = []\n",
    "    ws = []\n",
    "    hs = []\n",
    "    for b in buildings:\n",
    "        xs.append(b[0])\n",
    "        ys.append(0)\n",
    "        ws.append(b[1] - b[0])\n",
    "        hs.append(b[2])\n",
    "    vs = np.random.randn(N)\n",
    "    normal = pl.Normalize(vs.min(), vs.max())\n",
    "    colors = pl.cm.jet(normal(vs))\n",
    "\n",
    "    for x,y,w,h,c in zip(xs,ys,ws,hs,colors):\n",
    "        rect = pl.Rectangle((x,y),w,h,color=c,fill=None)  #remove the fill=None to show colors filled in rectangles\n",
    "        ax.add_patch(rect)\n",
    "\n",
    "    ax.set_xlim(0,xRange)  #320\n",
    "    ax.set_ylim(0,yRange)  #60\n"
   ]
  },
  {
   "cell_type": "code",
   "execution_count": 170,
   "id": "b80853fe",
   "metadata": {},
   "outputs": [],
   "source": [
    "def drawContour(res, xRange, yRange, ax):\n",
    "    '''\n",
    "    Purpose:\n",
    "        Plot the computed skyline of the buildings\n",
    "    Parameters:\n",
    "        res : the skyline that the getSkyline function would return (as a list of sorted points)\n",
    "        xRange : the width of the canvas\n",
    "        yRange : the height of the canvas\n",
    "        ax : the subplot axes \n",
    "    Return:\n",
    "        None\n",
    "    '''\n",
    "    ax.set_xlim(0,xRange)  #320\n",
    "    ax.set_ylim(0,yRange)  #60\n",
    "    color = '#000000'\n",
    "    \n",
    "    prevx = 0\n",
    "    prevy = 0\n",
    "\n",
    "    for c in res:\n",
    "        ax.plot(c[0], c[1], marker=\"o\", markersize=7, markeredgecolor=\"red\", markerfacecolor=\"red\")\n",
    "        \n",
    "        # draw a horizontal  line \n",
    "        xs = [prevx, c[0]]\n",
    "        ys = [prevy, prevy]\n",
    "        ax.plot(xs, ys, c=color)\n",
    "\n",
    "        # draw a vertical line\n",
    "        x_values = [c[0], c[0]]\n",
    "        y_values = [prevy, c[1]]\n",
    "        ax.plot(x_values, y_values, c=color)\n",
    "        prevx, prevy = c[0], c[1]\n"
   ]
  },
  {
   "cell_type": "code",
   "execution_count": 74,
   "id": "34bcca1d",
   "metadata": {},
   "outputs": [],
   "source": [
    "import random\n",
    "def randomBuildings(N, width, height, prev):\n",
    "    '''\n",
    "    Purpose:\n",
    "        Randomly generate a list of N buildings with the constraints\n",
    "    Parameters:\n",
    "        N : the number of buildings\n",
    "        width : max-width of each rectangle\n",
    "        prev : smallest starting point of 1st rectangle\n",
    "    Return:\n",
    "        A list of buildings that's ready to be fed into the getSkyline function\n",
    "    '''\n",
    "    xs,ys,ws = [],[],[]\n",
    "\n",
    "    for i in range(prev, N * width, width):\n",
    "        x = random.randint(prev,i)\n",
    "        xs.append(x)\n",
    "        ys.append(random.randint(i, i+width))\n",
    "        ws.append(random.randint(5, height))\n",
    "        prev = x\n",
    "\n",
    "    return [list(ele) for ele in list(zip(xs, ys, ws))]"
   ]
  },
  {
   "cell_type": "markdown",
   "id": "82f953f2",
   "metadata": {},
   "source": [
    "## Run the program"
   ]
  },
  {
   "cell_type": "code",
   "execution_count": 167,
   "id": "018bc309",
   "metadata": {},
   "outputs": [
    {
     "data": {
      "image/png": "[encoded data removed]",
      "text/plain": [
       "<Figure size 540x540 with 2 Axes>"
      ]
     },
     "metadata": {
      "needs_background": "light"
     },
     "output_type": "display_data"
    }
   ],
   "source": [
    "# Randomly generate rectangles\n",
    "N = 15        # number of rectangles\n",
    "width = 20    # max-width of each rectangle\n",
    "height = 50   # max-height of each rectangle\n",
    "prev = 10     # smallest starting point of 1st rectangle\n",
    "xRange = (N+1)*width  # canvas x range\n",
    "yRange = 60           # canvas y range\n",
    "buildings = randomBuildings(N, width, height, prev)\n",
    "\n",
    "# Create a canvas\n",
    "plt.rcParams[\"figure.figsize\"] = [7.50, 7.50]\n",
    "plt.rcParams[\"figure.autolayout\"] = True\n",
    "fig, (ax1, ax2) = plt.subplots(2)\n",
    "\n",
    "# Plot the randomly generated rectangles\n",
    "drawRectangles(buildings, xRange, yRange, ax1)\n",
    "\n",
    "# Compute the skyline\n",
    "after = getSkyline(buildings)\n",
    "\n",
    "# Plot the skyline\n",
    "drawContour(after, xRange, yRange, ax2)\n",
    "plt.show()"
   ]
  },
  {
   "cell_type": "code",
   "execution_count": 79,
   "id": "a5ca1296",
   "metadata": {},
   "outputs": [
    {
     "name": "stdout",
     "output_type": "stream",
     "text": [
      "4\n"
     ]
    }
   ],
   "source": [
    "myTree = segTree(xRange)\n",
    "addBuildings(myTree, buildings)\n",
    "countBuildingsAt(myTree, 36)"
   ]
  },
  {
   "cell_type": "code",
   "execution_count": 187,
   "id": "4c450d98",
   "metadata": {},
   "outputs": [],
   "source": [
    "class inputHandling:\n",
    "    def __init__(self):\n",
    "        # Randomly generate rectangles\n",
    "        self.N = 15        # number of rectangles\n",
    "        self.width = 20    # max-width of each rectangle\n",
    "        self.height = 50   # max-height of each rectangle\n",
    "        self.prev = 10     # smallest starting point of 1st rectangle\n",
    "        self.xRange = (N+1)*width  # canvas x range\n",
    "        self.yRange = 60           # canvas y range\n",
    "#         self.buildings = randomBuildings(self.N, self.width, self.height, self.prev)\n",
    "        self.tree = None\n",
    "    \n",
    "    def plot(self):\n",
    "        self.buildings = randomBuildings(self.N, self.width, self.height, self.prev)\n",
    "        plt.clf()\n",
    "        # Create a canvas\n",
    "        plt.rcParams[\"figure.figsize\"] = [7.50, 7.50]\n",
    "        plt.rcParams[\"figure.autolayout\"] = True\n",
    "        fig, (ax1, ax2) = plt.subplots(2)\n",
    "\n",
    "        # Plot the randomly generated rectangles\n",
    "        drawRectangles(self.buildings, self.xRange, self.yRange, ax1)\n",
    "\n",
    "        # Compute the skyline\n",
    "        after = getSkyline(self.buildings)\n",
    "\n",
    "        # Plot the skyline\n",
    "        drawContour(after, self.xRange, self.yRange, ax2)\n",
    "        plt.show()\n",
    "\n",
    "    def build(self):\n",
    "        self.tree = segTree(self.N)\n",
    "        for building in self.buildings:\n",
    "            self.tree.incrementRange(building[0], building[1])\n",
    "            \n",
    "    def query(self, n):\n",
    "        if self.tree:\n",
    "            print(\"The range you could query on is [1,%d]\" % self.xRange)\n",
    "            n = int(input(\"Enter the index you'd like to query on: \"))\n",
    "            res = self.tree.query(n)\n",
    "            print(\"hey\", res)\n",
    "        \n",
    "        \n",
    "\n"
   ]
  },
  {
   "cell_type": "code",
   "execution_count": 188,
   "id": "9bab2ab2",
   "metadata": {},
   "outputs": [
    {
     "data": {
      "text/plain": [
       "<Figure size 540x540 with 0 Axes>"
      ]
     },
     "metadata": {},
     "output_type": "display_data"
    },
    {
     "data": {
      "image/png": "[encoded data removed]",
      "text/plain": [
       "<Figure size 540x540 with 2 Axes>"
      ]
     },
     "metadata": {
      "needs_background": "light"
     },
     "output_type": "display_data"
    },
    {
     "name": "stdout",
     "output_type": "stream",
     "text": [
      "out of range error from trying to insert [17, 44] while max range is 16\n",
      "out of range error from trying to insert [17, 70] while max range is 16\n",
      "out of range error from trying to insert [53, 73] while max range is 16\n",
      "out of range error from trying to insert [89, 104] while max range is 16\n",
      "out of range error from trying to insert [97, 123] while max range is 16\n",
      "out of range error from trying to insert [113, 139] while max range is 16\n",
      "out of range error from trying to insert [134, 158] while max range is 16\n",
      "out of range error from trying to insert [154, 180] while max range is 16\n",
      "out of range error from trying to insert [173, 202] while max range is 16\n",
      "out of range error from trying to insert [202, 214] while max range is 16\n",
      "out of range error from trying to insert [210, 244] while max range is 16\n",
      "out of range error from trying to insert [225, 250] while max range is 16\n",
      "out of range error from trying to insert [270, 289] while max range is 16\n",
      "out of range error from trying to insert [277, 307] while max range is 16\n"
     ]
    }
   ],
   "source": [
    "myInput = inputHandling()\n",
    "myInput.plot()\n",
    "myInput.build()\n",
    "# myInput.query(56)"
   ]
  },
  {
   "cell_type": "code",
   "execution_count": null,
   "id": "4201d3eb",
   "metadata": {},
   "outputs": [],
   "source": [
    "\n",
    "    def addBuilding(segTree, building):\n",
    "        segTree.incrementRange(building[0], building[1])\n",
    "\n",
    "    def addBuildings(segTree, buildings):\n",
    "        for building in buildings:\n",
    "            addBuilding(segTree, building)\n",
    "\n",
    "    def countBuildingsAt(segTree, queryPt):\n",
    "        x = segTree.query(queryPt)\n",
    "        print(x)\n",
    "        return x"
   ]
  },
  {
   "cell_type": "code",
   "execution_count": 173,
   "id": "705c19d9",
   "metadata": {},
   "outputs": [
    {
     "name": "stdout",
     "output_type": "stream",
     "text": [
      "Enter a command (Enter \"help\" to see what commands are available):random\n",
      "Invalid command\n",
      "Enter a command (Enter \"help\" to see what commands are available):plot\n"
     ]
    },
    {
     "data": {
      "image/png": "[encoded data removed]",
      "text/plain": [
       "<Figure size 684x684 with 2 Axes>"
      ]
     },
     "metadata": {
      "needs_background": "light"
     },
     "output_type": "display_data"
    },
    {
     "name": "stdout",
     "output_type": "stream",
     "text": [
      "Enter a command (Enter \"help\" to see what commands are available):build\n",
      "Tree built\n",
      "Enter a command (Enter \"help\" to see what commands are available):query\n",
      "The range you could query on is [1,320]\n",
      "Enter the index you'd like to query on: 101\n",
      "None\n"
     ]
    },
    {
     "ename": "KeyboardInterrupt",
     "evalue": "Interrupted by user",
     "output_type": "error",
     "traceback": [
      "\u001b[0;31m---------------------------------------------------------------------------\u001b[0m",
      "\u001b[0;31mKeyboardInterrupt\u001b[0m                         Traceback (most recent call last)",
      "Input \u001b[0;32mIn [173]\u001b[0m, in \u001b[0;36m<cell line: 11>\u001b[0;34m()\u001b[0m\n\u001b[1;32m      8\u001b[0m myTree \u001b[38;5;241m=\u001b[39m \u001b[38;5;28;01mNone\u001b[39;00m\n\u001b[1;32m     10\u001b[0m \u001b[38;5;28;01mwhile\u001b[39;00m \u001b[38;5;28;01mTrue\u001b[39;00m:\n\u001b[0;32m---> 11\u001b[0m     command \u001b[38;5;241m=\u001b[39m \u001b[38;5;28;43minput\u001b[39;49m\u001b[43m(\u001b[49m\u001b[38;5;124;43m\"\u001b[39;49m\u001b[38;5;124;43mEnter a command (Enter \u001b[39;49m\u001b[38;5;130;43;01m\\\"\u001b[39;49;00m\u001b[38;5;124;43mhelp\u001b[39;49m\u001b[38;5;130;43;01m\\\"\u001b[39;49;00m\u001b[38;5;124;43m to see what commands are available):\u001b[39;49m\u001b[38;5;124;43m\"\u001b[39;49m\u001b[43m)\u001b[49m\n\u001b[1;32m     12\u001b[0m     \u001b[38;5;28;01mif\u001b[39;00m command \u001b[38;5;241m==\u001b[39m \u001b[38;5;124m\"\u001b[39m\u001b[38;5;124mstop\u001b[39m\u001b[38;5;124m\"\u001b[39m:\n\u001b[1;32m     13\u001b[0m         \u001b[38;5;28;01mbreak\u001b[39;00m\n",
      "File \u001b[0;32m/opt/homebrew/lib/python3.9/site-packages/ipykernel/kernelbase.py:1177\u001b[0m, in \u001b[0;36mKernel.raw_input\u001b[0;34m(self, prompt)\u001b[0m\n\u001b[1;32m   1173\u001b[0m \u001b[38;5;28;01mif\u001b[39;00m \u001b[38;5;129;01mnot\u001b[39;00m \u001b[38;5;28mself\u001b[39m\u001b[38;5;241m.\u001b[39m_allow_stdin:\n\u001b[1;32m   1174\u001b[0m     \u001b[38;5;28;01mraise\u001b[39;00m StdinNotImplementedError(\n\u001b[1;32m   1175\u001b[0m         \u001b[38;5;124m\"\u001b[39m\u001b[38;5;124mraw_input was called, but this frontend does not support input requests.\u001b[39m\u001b[38;5;124m\"\u001b[39m\n\u001b[1;32m   1176\u001b[0m     )\n\u001b[0;32m-> 1177\u001b[0m \u001b[38;5;28;01mreturn\u001b[39;00m \u001b[38;5;28;43mself\u001b[39;49m\u001b[38;5;241;43m.\u001b[39;49m\u001b[43m_input_request\u001b[49m\u001b[43m(\u001b[49m\n\u001b[1;32m   1178\u001b[0m \u001b[43m    \u001b[49m\u001b[38;5;28;43mstr\u001b[39;49m\u001b[43m(\u001b[49m\u001b[43mprompt\u001b[49m\u001b[43m)\u001b[49m\u001b[43m,\u001b[49m\n\u001b[1;32m   1179\u001b[0m \u001b[43m    \u001b[49m\u001b[38;5;28;43mself\u001b[39;49m\u001b[38;5;241;43m.\u001b[39;49m\u001b[43m_parent_ident\u001b[49m\u001b[43m[\u001b[49m\u001b[38;5;124;43m\"\u001b[39;49m\u001b[38;5;124;43mshell\u001b[39;49m\u001b[38;5;124;43m\"\u001b[39;49m\u001b[43m]\u001b[49m\u001b[43m,\u001b[49m\n\u001b[1;32m   1180\u001b[0m \u001b[43m    \u001b[49m\u001b[38;5;28;43mself\u001b[39;49m\u001b[38;5;241;43m.\u001b[39;49m\u001b[43mget_parent\u001b[49m\u001b[43m(\u001b[49m\u001b[38;5;124;43m\"\u001b[39;49m\u001b[38;5;124;43mshell\u001b[39;49m\u001b[38;5;124;43m\"\u001b[39;49m\u001b[43m)\u001b[49m\u001b[43m,\u001b[49m\n\u001b[1;32m   1181\u001b[0m \u001b[43m    \u001b[49m\u001b[43mpassword\u001b[49m\u001b[38;5;241;43m=\u001b[39;49m\u001b[38;5;28;43;01mFalse\u001b[39;49;00m\u001b[43m,\u001b[49m\n\u001b[1;32m   1182\u001b[0m \u001b[43m\u001b[49m\u001b[43m)\u001b[49m\n",
      "File \u001b[0;32m/opt/homebrew/lib/python3.9/site-packages/ipykernel/kernelbase.py:1219\u001b[0m, in \u001b[0;36mKernel._input_request\u001b[0;34m(self, prompt, ident, parent, password)\u001b[0m\n\u001b[1;32m   1216\u001b[0m             \u001b[38;5;28;01mbreak\u001b[39;00m\n\u001b[1;32m   1217\u001b[0m \u001b[38;5;28;01mexcept\u001b[39;00m \u001b[38;5;167;01mKeyboardInterrupt\u001b[39;00m:\n\u001b[1;32m   1218\u001b[0m     \u001b[38;5;66;03m# re-raise KeyboardInterrupt, to truncate traceback\u001b[39;00m\n\u001b[0;32m-> 1219\u001b[0m     \u001b[38;5;28;01mraise\u001b[39;00m \u001b[38;5;167;01mKeyboardInterrupt\u001b[39;00m(\u001b[38;5;124m\"\u001b[39m\u001b[38;5;124mInterrupted by user\u001b[39m\u001b[38;5;124m\"\u001b[39m) \u001b[38;5;28;01mfrom\u001b[39;00m \u001b[38;5;28mNone\u001b[39m\n\u001b[1;32m   1220\u001b[0m \u001b[38;5;28;01mexcept\u001b[39;00m \u001b[38;5;167;01mException\u001b[39;00m:\n\u001b[1;32m   1221\u001b[0m     \u001b[38;5;28mself\u001b[39m\u001b[38;5;241m.\u001b[39mlog\u001b[38;5;241m.\u001b[39mwarning(\u001b[38;5;124m\"\u001b[39m\u001b[38;5;124mInvalid Message:\u001b[39m\u001b[38;5;124m\"\u001b[39m, exc_info\u001b[38;5;241m=\u001b[39m\u001b[38;5;28;01mTrue\u001b[39;00m)\n",
      "\u001b[0;31mKeyboardInterrupt\u001b[0m: Interrupted by user"
     ]
    }
   ],
   "source": [
    "# N = 15        # number of rectangles\n",
    "# width = 20    # max-width of each rectangle\n",
    "# height = 50   # max-height of each rectangle\n",
    "# prev = 10     # smallest starting point of 1st rectangle\n",
    "# xRange = (N+1)*width  # canvas x range\n",
    "# yRange = 60           # canvas y range\n",
    "# buildings = randomBuildings(N, width, height, prev)\n",
    "myTree = None\n",
    "\n",
    "while True:\n",
    "    command = input(\"Enter a command (Enter \\\"help\\\" to see what commands are available):\")\n",
    "    if command == \"stop\":\n",
    "        break\n",
    "    elif command == \"help\":\n",
    "        print(\"stop - Exit the program \\nrandom - Randomly generate a given number of buildings\\nplot - Plot the randomly generated buildings and its skyline\\nbuild - build a segment tree on the current set of buildings\\nquery - Query about the number of buildings at a given point\")\n",
    "    elif command == \"plot\":\n",
    "        # Randomly generate rectangles\n",
    "        N = 15        # number of rectangles\n",
    "        width = 20    # max-width of each rectangle\n",
    "        height = 50   # max-height of each rectangle\n",
    "        prev = 10     # smallest starting point of 1st rectangle\n",
    "        xRange = (N+1)*width  # canvas x range\n",
    "        yRange = 60           # canvas y range\n",
    "        buildings = randomBuildings(N, width, height, prev)\n",
    "\n",
    "        # Create a canvas\n",
    "        plt.rcParams[\"figure.figsize\"] = [9.50, 9.50]\n",
    "        plt.rcParams[\"figure.autolayout\"] = True\n",
    "        fig, (ax1, ax2) = plt.subplots(2)\n",
    "\n",
    "        # Plot the randomly generated rectangles\n",
    "        drawRectangles(buildings, xRange, yRange, ax1)\n",
    "\n",
    "        # Compute the skyline\n",
    "        after = getSkyline(buildings)\n",
    "\n",
    "        # Plot the skyline\n",
    "        drawContour(after, xRange, yRange, ax2)\n",
    "        plt.show()\n",
    "    elif command == \"build\":\n",
    "        myTree = segTree(xRange)\n",
    "        addBuildings(myTree, buildings)\n",
    "        print(\"Tree built\")\n",
    "    elif command == \"query\":\n",
    "        if myTree:\n",
    "            print(\"The range you could query on is [1,%d]\" % xRange)\n",
    "            n = int(input(\"Enter the index you'd like to query on: \"))\n",
    "            res = myTree.query(n)\n",
    "#             res = countBuildingsAt(myTree, n)\n",
    "            print(res)\n",
    "#             print(\"The number of buildings on %d is %d\\n\" % (n, res))\n",
    "    else:\n",
    "        print(\"Invalid command\")"
   ]
  },
  {
   "cell_type": "markdown",
   "id": "11091d53",
   "metadata": {},
   "source": [
    "# Segment tree: number of buildings across a line"
   ]
  },
  {
   "cell_type": "code",
   "execution_count": 186,
   "id": "721781f4",
   "metadata": {},
   "outputs": [],
   "source": [
    "import math\n",
    "class segTree:\n",
    "    def __init__(self, N):\n",
    "        '''\n",
    "        Initialize the segment tree that could efficiently store ranges from 1 to N\n",
    "        Parameter:\n",
    "            N - the upper limit of input intervals\n",
    "        '''\n",
    "        self.N = N\n",
    "        self.leavesNum = 2 ** (int(math.sqrt(N)) + 1)\n",
    "        self.nodesNum = self.leavesNum * 2 - 1\n",
    "        self.arrSize = self.nodesNum + 1\n",
    "        \n",
    "        self.arr   = [0 for i in range(self.arrSize)] # start with index 1\n",
    "        self.left  = [0 for i in range(self.arrSize)] # left endpoint\n",
    "        self.right = [0 for i in range(self.arrSize)] # right endpoint\n",
    "        self.lazy  = [0 for i in range(self.arrSize)] # for lazy propagation\n",
    "    \n",
    "        # initialize the full binary tree which is represented by arrays\n",
    "        self.initInternalNodes(1, self.leavesNum, 1)\n",
    "    \n",
    "    def initInternalNodes(self, left, right, curr):\n",
    "        '''\n",
    "        Initialize the ranges for each internal nodes and leaf nodes in the segment tree\n",
    "        Parameters:\n",
    "            left - smallest inclusive endpoint in subtree\n",
    "            right - largest inclusive endpoint in subtree\n",
    "            curr - the index of the node in the array\n",
    "        Return:\n",
    "            None\n",
    "        '''\n",
    "        self.left[curr] = left \n",
    "        self.right[curr] = right\n",
    "        if left < right:\n",
    "            pred = (right-left+1) // 2\n",
    "            self.initInternalNodes(left, left+pred-1, curr*2)\n",
    "            self.initInternalNodes(left+pred, right, curr*2+1)\n",
    "    \n",
    "    def incrementRange(self, start, end):\n",
    "        '''\n",
    "        Increment the count of [start, end] by one\n",
    "        Parameters:\n",
    "            start - the inclusive starting point of the range\n",
    "            end - the inclusive ending point of the range\n",
    "        Return:\n",
    "            None\n",
    "        '''\n",
    "        if start < 1 or end > self.N:\n",
    "            print(\"out of range error from trying to insert [%d, %d] while max range is %d\" % (start, end, self.N))\n",
    "        else:\n",
    "            self.update(start, end, 1)\n",
    "    \n",
    "    def update(self, start, end, curr):\n",
    "        '''\n",
    "        Private helper function of incrementRange\n",
    "        '''\n",
    "        if start == self.left[curr] and end == self.right[curr]: # base case: interval covers entire subtree\n",
    "            self.lazy[curr] += 1  \n",
    "        elif start >= self.left[curr*2+1]:                       # recursive case: interval only overlaps with right subtree\n",
    "            self.update(start, end, curr*2+1)\n",
    "        elif end <= self.right[curr*2]:                          # recursive case: interval only overlaps with left subtree\n",
    "            self.update(start, end, curr*2)\n",
    "        else:                                                    # recursive case: interval overlaps with both subtrees\n",
    "            self.update(start, self.right[curr*2], curr*2)     \n",
    "            self.update(self.left[curr*2+1], end, curr*2+1)\n",
    "    \n",
    "    def query(self, n):\n",
    "        '''\n",
    "        Return the count value of a given position\n",
    "        Parmeters:\n",
    "            n - the query index \n",
    "        Return:\n",
    "            the count associated with the index\n",
    "        '''\n",
    "        if n < 1 or n > self.N:\n",
    "            print(\"out of range error\")\n",
    "        else:\n",
    "            print(\"HERE\")\n",
    "            return self.search(n, 1)\n",
    "    \n",
    "    def search(self, n, curr):\n",
    "        '''\n",
    "        Private helper function of query \n",
    "        '''\n",
    "        if self.left[curr] == n and self.right[curr] == n:  # base case: reach the leaf\n",
    "            self.arr[curr] += self.lazy[curr]\n",
    "            self.lazy[curr] = 0\n",
    "            res = self.arr[curr]\n",
    "            print(\"REACH\")\n",
    "            return res\n",
    "        if self.lazy[curr] != 0:       # propagate the lazy count\n",
    "            self.lazy[curr*2+1] += self.lazy[curr]\n",
    "            self.lazy[curr*2] += self.lazy[curr]\n",
    "            self.lazy[curr] = 0\n",
    "        if n <= self.right[curr*2]:    # search left subtree\n",
    "            self.search(n, curr*2)\n",
    "        elif n >= self.left[curr*2+1]: # search right subtree\n",
    "            self.search(n, curr*2+1)\n",
    "        \n",
    "    def printTree(self):\n",
    "        '''\n",
    "        Private helper function for debugging\n",
    "        '''\n",
    "        for i in range(self.arrSize):\n",
    "            if self.lazy[i]:\n",
    "                print(self.left[i], self.right[i], self.lazy[i])\n"
   ]
  },
  {
   "cell_type": "code",
   "execution_count": 100,
   "id": "9691beab",
   "metadata": {},
   "outputs": [
    {
     "name": "stdout",
     "output_type": "stream",
     "text": [
      "3\n"
     ]
    }
   ],
   "source": [
    "myTree = segTree(20)\n",
    "# myTree.printTree()\n",
    "myTree.incrementRange(2, 19)\n",
    "# myTree.printTree()\n",
    "myTree.incrementRange(3, 9)\n",
    "# myTree.printTree()\n",
    "myTree.incrementRange(8, 13)\n",
    "# myTree.printTree()\n",
    "myTree.query(9)\n",
    "\n",
    "# myTree.printTree()\n",
    "# myTree.update(1, 3)\n",
    "# myTree.printTree()"
   ]
  }
 ],
 "metadata": {
  "kernelspec": {
   "display_name": "Python 3 (ipykernel)",
   "language": "python",
   "name": "python3"
  },
  "language_info": {
   "codemirror_mode": {
    "name": "ipython",
    "version": 3
   },
   "file_extension": ".py",
   "mimetype": "text/x-python",
   "name": "python",
   "nbconvert_exporter": "python",
   "pygments_lexer": "ipython3",
   "version": "3.9.13"
  }
 },
 "nbformat": 4,
 "nbformat_minor": 5
}
